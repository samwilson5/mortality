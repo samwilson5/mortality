{
  "nbformat": 4,
  "nbformat_minor": 0,
  "metadata": {
    "colab": {
      "provenance": []
    },
    "kernelspec": {
      "name": "python3",
      "display_name": "Python 3"
    },
    "language_info": {
      "name": "python"
    }
  },
  "cells": [
    {
      "cell_type": "markdown",
      "source": [
        "I used google colab for all the python code for this project, as a result gdal/osgeo has to be reinstalled everytime the kernel is restarted"
      ],
      "metadata": {
        "id": "UEcPm19Ir5nZ"
      }
    },
    {
      "cell_type": "code",
      "source": [
        "!apt install gdal-bin python3-gdal --quiet"
      ],
      "metadata": {
        "id": "A7VJOc9Sr3_V"
      },
      "execution_count": null,
      "outputs": []
    },
    {
      "cell_type": "code",
      "source": [
        "from osgeo import gdal\n",
        "import os"
      ],
      "metadata": {
        "id": "BTdx5LCV06cS"
      },
      "execution_count": null,
      "outputs": []
    },
    {
      "cell_type": "markdown",
      "source": [
        "Get all of the classified rasters"
      ],
      "metadata": {
        "id": "e5yLa7mWsEW1"
      }
    },
    {
      "cell_type": "markdown",
      "source": [
        "They had no projection, therefore they were unable to be uploaded to GEE. This line reprojects and resaves them"
      ],
      "metadata": {
        "id": "SYSs1Mu6sIq9"
      }
    },
    {
      "cell_type": "code",
      "source": [
        "import glob\n",
        "demList = glob.glob(\"/content/drive/MyDrive/Drone_Flights/classified_rasters/*.tif\")\n",
        "\n",
        "for i in demList:\n",
        "  last = i.split('/')[-1]\n",
        "  output_dest = '/content/drive/MyDrive/Drone_Flights/projected_classified_rasters/'+ str(last)\n",
        "  !gdalwarp -t_srs EPSG:4326 -of GTiff \"$i\" \"$output_dest\""
      ],
      "metadata": {
        "id": "oe-03EWDCQGE"
      },
      "execution_count": null,
      "outputs": []
    },
    {
      "cell_type": "markdown",
      "source": [
        "I also needed the boundaries of each flight as polygons. This coding was lazy, I just changed the name and reran it a bunch of times to get each boundary"
      ],
      "metadata": {
        "id": "uFetEGdMsPs9"
      }
    },
    {
      "cell_type": "code",
      "source": [
        "!gdal_polygonize.py -8 /content/drive/MyDrive/Drone_Flights/Deliverables/CO_1_Ortho.tif /content/drive/MyDrive/Drone_Flights/drone_outlines/CO_01_01BOUND.shp"
      ],
      "metadata": {
        "colab": {
          "base_uri": "https://localhost:8080/"
        },
        "id": "A-lbfMlJeiE-",
        "outputId": "c8ce5594-bebd-4cdb-cf5d-ad1a4fc64cd8"
      },
      "execution_count": null,
      "outputs": [
        {
          "output_type": "stream",
          "name": "stdout",
          "text": [
            "Creating output /content/drive/MyDrive/Drone_Flights/drone_outlines/CO_01_01BOUND.shp of format ESRI Shapefile.\n",
            "0...10...20Warning 1: 2GB file size limit reached for /content/drive/MyDrive/Drone_Flights/drone_outlines/CO_01_01BOUND.shp. Going on, but might cause compatibility issues with third party software\n",
            "..ERROR 1: Failed to write shape object. The maximum file size of 4294967240 has been reached. The current record of size 136 cannot be added.\n"
          ]
        }
      ]
    }
  ]
}