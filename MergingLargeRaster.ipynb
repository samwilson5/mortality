{
  "cells": [
    {
      "cell_type": "markdown",
      "source": [
        "Working in colab, gdal needs to be reinstalled with each new connection\n",
        "\n",
        "- runtime ~30 seconds"
      ],
      "metadata": {
        "id": "vskOfpfrviLm"
      }
    },
    {
      "cell_type": "code",
      "execution_count": null,
      "metadata": {
        "id": "ouXVtrSiTFGZ"
      },
      "outputs": [],
      "source": [
        "!apt install gdal-bin python3-gdal --quiet"
      ]
    },
    {
      "cell_type": "markdown",
      "source": [
        "Load in the many different files of the raster that are split into pieces.The output of this is a vrt in order to save space."
      ],
      "metadata": {
        "id": "mYoDZzKyvpnX"
      }
    },
    {
      "cell_type": "code",
      "execution_count": null,
      "metadata": {
        "colab": {
          "base_uri": "https://localhost:8080/"
        },
        "id": "-82CrT73WTaZ",
        "outputId": "0b4cf68c-12e4-422f-a503-33d25c7ef0e3"
      },
      "outputs": [
        {
          "name": "stdout",
          "output_type": "stream",
          "text": [
            "['/content/drive/MyDrive/1985_LS_Dec5Try/1985_ALL_sevenbands-0000000000-0000000000.tif', '/content/drive/MyDrive/1985_LS_Dec5Try/1985_ALL_sevenbands-0000000000-0000009472.tif', '/content/drive/MyDrive/1985_LS_Dec5Try/1985_ALL_sevenbands-0000000000-0000018944.tif', '/content/drive/MyDrive/1985_LS_Dec5Try/1985_ALL_sevenbands-0000000000-0000028416.tif', '/content/drive/MyDrive/1985_LS_Dec5Try/1985_ALL_sevenbands-0000000000-0000037888.tif', '/content/drive/MyDrive/1985_LS_Dec5Try/1985_ALL_sevenbands-0000000000-0000047360.tif', '/content/drive/MyDrive/1985_LS_Dec5Try/1985_ALL_sevenbands-0000000000-0000056832.tif', '/content/drive/MyDrive/1985_LS_Dec5Try/1985_ALL_sevenbands-0000000000-0000066304.tif', '/content/drive/MyDrive/1985_LS_Dec5Try/1985_ALL_sevenbands-0000000000-0000075776.tif', '/content/drive/MyDrive/1985_LS_Dec5Try/1985_ALL_sevenbands-0000009472-0000000000.tif', '/content/drive/MyDrive/1985_LS_Dec5Try/1985_ALL_sevenbands-0000009472-0000009472.tif', '/content/drive/MyDrive/1985_LS_Dec5Try/1985_ALL_sevenbands-0000009472-0000018944.tif', '/content/drive/MyDrive/1985_LS_Dec5Try/1985_ALL_sevenbands-0000009472-0000028416.tif', '/content/drive/MyDrive/1985_LS_Dec5Try/1985_ALL_sevenbands-0000009472-0000037888.tif', '/content/drive/MyDrive/1985_LS_Dec5Try/1985_ALL_sevenbands-0000009472-0000047360.tif', '/content/drive/MyDrive/1985_LS_Dec5Try/1985_ALL_sevenbands-0000009472-0000056832.tif', '/content/drive/MyDrive/1985_LS_Dec5Try/1985_ALL_sevenbands-0000009472-0000066304.tif', '/content/drive/MyDrive/1985_LS_Dec5Try/1985_ALL_sevenbands-0000009472-0000075776.tif', '/content/drive/MyDrive/1985_LS_Dec5Try/1985_ALL_sevenbands-0000018944-0000000000.tif', '/content/drive/MyDrive/1985_LS_Dec5Try/1985_ALL_sevenbands-0000018944-0000009472.tif', '/content/drive/MyDrive/1985_LS_Dec5Try/1985_ALL_sevenbands-0000018944-0000018944.tif', '/content/drive/MyDrive/1985_LS_Dec5Try/1985_ALL_sevenbands-0000018944-0000028416.tif', '/content/drive/MyDrive/1985_LS_Dec5Try/1985_ALL_sevenbands-0000018944-0000037888.tif', '/content/drive/MyDrive/1985_LS_Dec5Try/1985_ALL_sevenbands-0000018944-0000047360.tif', '/content/drive/MyDrive/1985_LS_Dec5Try/1985_ALL_sevenbands-0000018944-0000056832.tif', '/content/drive/MyDrive/1985_LS_Dec5Try/1985_ALL_sevenbands-0000018944-0000066304.tif', '/content/drive/MyDrive/1985_LS_Dec5Try/1985_ALL_sevenbands-0000018944-0000075776.tif', '/content/drive/MyDrive/1985_LS_Dec5Try/1985_ALL_sevenbands-0000028416-0000000000.tif', '/content/drive/MyDrive/1985_LS_Dec5Try/1985_ALL_sevenbands-0000028416-0000009472.tif', '/content/drive/MyDrive/1985_LS_Dec5Try/1985_ALL_sevenbands-0000028416-0000018944.tif', '/content/drive/MyDrive/1985_LS_Dec5Try/1985_ALL_sevenbands-0000028416-0000028416.tif', '/content/drive/MyDrive/1985_LS_Dec5Try/1985_ALL_sevenbands-0000028416-0000037888.tif', '/content/drive/MyDrive/1985_LS_Dec5Try/1985_ALL_sevenbands-0000028416-0000047360.tif', '/content/drive/MyDrive/1985_LS_Dec5Try/1985_ALL_sevenbands-0000028416-0000056832.tif', '/content/drive/MyDrive/1985_LS_Dec5Try/1985_ALL_sevenbands-0000028416-0000066304.tif', '/content/drive/MyDrive/1985_LS_Dec5Try/1985_ALL_sevenbands-0000028416-0000075776.tif', '/content/drive/MyDrive/1985_LS_Dec5Try/1985_ALL_sevenbands-0000037888-0000000000.tif', '/content/drive/MyDrive/1985_LS_Dec5Try/1985_ALL_sevenbands-0000037888-0000009472.tif', '/content/drive/MyDrive/1985_LS_Dec5Try/1985_ALL_sevenbands-0000037888-0000018944.tif', '/content/drive/MyDrive/1985_LS_Dec5Try/1985_ALL_sevenbands-0000037888-0000028416.tif', '/content/drive/MyDrive/1985_LS_Dec5Try/1985_ALL_sevenbands-0000037888-0000037888.tif', '/content/drive/MyDrive/1985_LS_Dec5Try/1985_ALL_sevenbands-0000037888-0000047360.tif', '/content/drive/MyDrive/1985_LS_Dec5Try/1985_ALL_sevenbands-0000037888-0000056832.tif', '/content/drive/MyDrive/1985_LS_Dec5Try/1985_ALL_sevenbands-0000037888-0000066304.tif', '/content/drive/MyDrive/1985_LS_Dec5Try/1985_ALL_sevenbands-0000037888-0000075776.tif', '/content/drive/MyDrive/1985_LS_Dec5Try/1985_ALL_sevenbands-0000047360-0000000000.tif', '/content/drive/MyDrive/1985_LS_Dec5Try/1985_ALL_sevenbands-0000047360-0000009472.tif', '/content/drive/MyDrive/1985_LS_Dec5Try/1985_ALL_sevenbands-0000047360-0000018944.tif', '/content/drive/MyDrive/1985_LS_Dec5Try/1985_ALL_sevenbands-0000047360-0000028416.tif', '/content/drive/MyDrive/1985_LS_Dec5Try/1985_ALL_sevenbands-0000047360-0000037888.tif', '/content/drive/MyDrive/1985_LS_Dec5Try/1985_ALL_sevenbands-0000047360-0000047360.tif', '/content/drive/MyDrive/1985_LS_Dec5Try/1985_ALL_sevenbands-0000047360-0000056832.tif', '/content/drive/MyDrive/1985_LS_Dec5Try/1985_ALL_sevenbands-0000047360-0000066304.tif', '/content/drive/MyDrive/1985_LS_Dec5Try/1985_ALL_sevenbands-0000047360-0000075776.tif', '/content/drive/MyDrive/1985_LS_Dec5Try/1985_ALL_sevenbands-0000056832-0000000000.tif', '/content/drive/MyDrive/1985_LS_Dec5Try/1985_ALL_sevenbands-0000056832-0000009472.tif', '/content/drive/MyDrive/1985_LS_Dec5Try/1985_ALL_sevenbands-0000056832-0000018944.tif', '/content/drive/MyDrive/1985_LS_Dec5Try/1985_ALL_sevenbands-0000056832-0000028416.tif', '/content/drive/MyDrive/1985_LS_Dec5Try/1985_ALL_sevenbands-0000056832-0000037888.tif', '/content/drive/MyDrive/1985_LS_Dec5Try/1985_ALL_sevenbands-0000056832-0000047360.tif', '/content/drive/MyDrive/1985_LS_Dec5Try/1985_ALL_sevenbands-0000056832-0000056832.tif', '/content/drive/MyDrive/1985_LS_Dec5Try/1985_ALL_sevenbands-0000056832-0000066304.tif', '/content/drive/MyDrive/1985_LS_Dec5Try/1985_ALL_sevenbands-0000056832-0000075776.tif']\n"
          ]
        }
      ],
      "source": [
        "\n",
        "from osgeo import gdal\n",
        "import glob\n",
        "import subprocess\n",
        "gdal.UseExceptions()\n",
        "\n",
        "# list all files in directory that match pattern\n",
        "demList = glob.glob(\"/content/drive/MyDrive/1985_LS_Dec5Try/*.tif\")\n",
        "#demList.insert(0,'/content/drive/MyDrive/2023_AllSagebrush_Landsat/BLANK.tif')\n",
        "print(demList)\n",
        "first = gdal.Open(demList[0])\n",
        "img_reference = first.GetGeoTransform()\n",
        "x_res = img_reference[1]\n",
        "y_res = -img_reference[5]\n",
        "\n",
        "#merge\n",
        "#cmd = \"gdal_merge.py -o mergedDEM.tif\"\n",
        "#subprocess.call(cmd.split()+demList)\n",
        "options_list = [\n",
        "    '-hidenodata'\n",
        "]\n",
        "options_string = \" \".join(options_list)\n",
        "\n",
        "# build virtual raster and convert to geotiff\n",
        "vrt = gdal.BuildVRT(\"MERGE.vrt\", demList,options='-hidenodata -srcnodata \"0\"')\n",
        "#gdal.Translate(\"/content/drive/MyDrive/2023_AllSagebrush_Landsat/updatedMerged3.tif\",vrt, xRes = x_res, yRes = y_res)\n",
        "#!gdal_translate -of GTiff \"$vrt\" /content/drive/MyDrive/2023_AllSagebrush_Landsat/updatedMerged.tif --config CHECK_FREE_SPACE NO\n",
        "vrt = None"
      ]
    },
    {
      "cell_type": "markdown",
      "source": [
        "The code below allows for splitting a large raster in numpy arrays where each array is a band. (file extension .npy)"
      ],
      "metadata": {
        "id": "VTlmTb7vv8zS"
      }
    },
    {
      "cell_type": "code",
      "execution_count": null,
      "metadata": {
        "id": "tZLAgNjr-E5V"
      },
      "outputs": [],
      "source": [
        "##OUTDATED\n",
        "import numpy as np\n",
        "from osgeo import gdal\n",
        "in_file = r\"/content/MERGE.vrt\"\n",
        "ds = gdal.Open(in_file)\n",
        "x = ds.GetRasterBand(6).ReadAsArray()\n",
        "np.save('/content/drive/MyDrive/Drone_Flights/RF_intermediate/2007/landsat2007B6.npy',x)"
      ]
    },
    {
      "cell_type": "markdown",
      "source": [
        "This code below allows for splitting a **VERY** large (>50 GB) raster band into pieces then saving the pieces as numpy arrays (.npy)"
      ],
      "metadata": {
        "id": "yk1DnqG4wEb6"
      }
    },
    {
      "cell_type": "code",
      "execution_count": null,
      "metadata": {
        "colab": {
          "base_uri": "https://localhost:8080/"
        },
        "id": "waXzdDfQGmR9",
        "outputId": "f2c653e0-7286-470f-e25b-6ba97558fe98"
      },
      "outputs": [
        {
          "output_type": "stream",
          "name": "stderr",
          "text": [
            "100%|██████████| 124/124 [06:52<00:00,  3.32s/it]\n"
          ]
        }
      ],
      "source": [
        "import numpy as np\n",
        "from osgeo import gdal\n",
        "in_file = r\"/content/MERGE.vrt\"\n",
        "ds = gdal.Open(in_file)\n",
        "## Change!\n",
        "x = ds.GetRasterBand(6).ReadAsArray()\n",
        "new_shape = (x.shape[0] * x.shape[1],1)\n",
        "temp_array = x.reshape(new_shape)\n",
        "split = np.array_split(temp_array,124,axis=0)\n",
        "from tqdm import tqdm\n",
        "for i in tqdm(range(0,len(split))):\n",
        "  # CHANGE!\n",
        "  path = '/content/drive/MyDrive/RF_prep/1985/b6_splits/b6_split' + str(i) + '.npy'\n",
        "  np.save(path,split[i])"
      ]
    }
  ],
  "metadata": {
    "colab": {
      "machine_shape": "hm",
      "provenance": []
    },
    "kernelspec": {
      "display_name": "Python 3",
      "name": "python3"
    },
    "language_info": {
      "name": "python"
    }
  },
  "nbformat": 4,
  "nbformat_minor": 0
}