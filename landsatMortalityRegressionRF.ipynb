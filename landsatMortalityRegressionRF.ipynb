{
  "cells": [
    {
      "cell_type": "markdown",
      "source": [
        "**This script takes bands of large rasters (stored as numpy arrays) and then splits them into pieces to allow for regression predictions from a random forest model trained and built in a seperate script**"
      ],
      "metadata": {
        "id": "-6LaMPOGJrh1"
      }
    },
    {
      "cell_type": "code",
      "source": [
        "!apt install gdal-bin python3-gdal --quiet"
      ],
      "metadata": {
        "id": "T8bmmJ_oK1Ws"
      },
      "execution_count": null,
      "outputs": []
    },
    {
      "cell_type": "markdown",
      "source": [
        "# Part 1"
      ],
      "metadata": {
        "id": "dKjIdh4KLsEn"
      }
    },
    {
      "cell_type": "markdown",
      "source": [
        "**This code could be significantly improved, however due to memory limitations the best way I found was to manually run this part for each band of each year's imagery that you were interested in**"
      ],
      "metadata": {
        "id": "zCmSQB-fLu6a"
      }
    },
    {
      "cell_type": "markdown",
      "source": [
        "Load in a band"
      ],
      "metadata": {
        "id": "j7Vk7GSLKLrH"
      }
    },
    {
      "cell_type": "code",
      "execution_count": null,
      "metadata": {
        "id": "PvywkhSq6HTV"
      },
      "outputs": [],
      "source": [
        "import numpy as np\n",
        "import joblib\n",
        "\n",
        "b1 = np.load(\"\")"
      ]
    },
    {
      "cell_type": "markdown",
      "source": [
        "The next two code blocks are just quick checks to make sure that these arrays can be cleanly split into 124 pieces (landed on 124 after many rounds of trial and error)"
      ],
      "metadata": {
        "id": "zggZgQ6vLFBh"
      }
    },
    {
      "cell_type": "code",
      "execution_count": null,
      "metadata": {
        "id": "tDSCDzoX8GH8"
      },
      "outputs": [],
      "source": [
        "new_shape = (b1.shape[0] * b1.shape[1],1)\n",
        "temp_array = b1.reshape(new_shape)"
      ]
    },
    {
      "cell_type": "code",
      "execution_count": null,
      "metadata": {
        "colab": {
          "base_uri": "https://localhost:8080/"
        },
        "id": "InwbVbPn8bVN",
        "outputId": "ec2f445c-f5f3-4f73-da87-ecde3f9061cb"
      },
      "outputs": [
        {
          "data": {
            "text/plain": [
              "39579310.0"
            ]
          },
          "execution_count": 3,
          "metadata": {},
          "output_type": "execute_result"
        }
      ],
      "source": [
        "temp_array.shape[0]/124"
      ]
    },
    {
      "cell_type": "markdown",
      "source": [
        "Now split the array into 124 pieces"
      ],
      "metadata": {
        "id": "biIMk1QbLjoy"
      }
    },
    {
      "cell_type": "code",
      "execution_count": null,
      "metadata": {
        "id": "WD7PmKHF7Oqt"
      },
      "outputs": [],
      "source": [
        "split = np.array_split(temp_array,124,axis=0)"
      ]
    },
    {
      "cell_type": "markdown",
      "source": [
        "loop through each split and save it as a numpy array"
      ],
      "metadata": {
        "id": "838vMC-DLnav"
      }
    },
    {
      "cell_type": "code",
      "execution_count": null,
      "metadata": {
        "colab": {
          "base_uri": "https://localhost:8080/"
        },
        "id": "AaVRHll_7PI6",
        "outputId": "fa7a34bb-239e-4699-c49c-ea131a980a19"
      },
      "outputs": [
        {
          "name": "stderr",
          "output_type": "stream",
          "text": [
            "100%|██████████| 23/23 [00:30<00:00,  1.34s/it]\n"
          ]
        }
      ],
      "source": [
        "from tqdm import tqdm\n",
        "for i in tqdm(range(0,len(split))):\n",
        "  path = '' + str(i) + '.npy'\n",
        "  np.save(path,split[i])"
      ]
    },
    {
      "cell_type": "markdown",
      "source": [
        "# Part 2"
      ],
      "metadata": {
        "id": "-QxPkS0ZL7Jh"
      }
    },
    {
      "cell_type": "markdown",
      "source": [
        "Now load in the RF model. Then loop through each round of splits, stitch them together, run them through the model, them save the results as a numpy array"
      ],
      "metadata": {
        "id": "M-_gLbW_MG_v"
      }
    },
    {
      "cell_type": "code",
      "execution_count": null,
      "metadata": {
        "colab": {
          "background_save": true,
          "base_uri": "https://localhost:8080/"
        },
        "id": "RTvYVvZoWsAL",
        "outputId": "62d2b600-5913-48a2-9265-bee932ad5d39"
      },
      "outputs": [
        {
          "name": "stderr",
          "output_type": "stream",
          "text": [
            "100%|██████████| 124/124 [2:07:54<00:00, 61.89s/it]\n"
          ]
        }
      ],
      "source": [
        "from tqdm import tqdm\n",
        "import numpy as np\n",
        "import joblib\n",
        "from sklearn import tree\n",
        "from sklearn.model_selection import train_test_split\n",
        "from sklearn import ensemble\n",
        "regr = joblib.load(\"\")\n",
        "\n",
        "\n",
        "for i in tqdm(range(0,124)):\n",
        "  b1 = np.load('' + str(i) + '.npy')\n",
        "  b2 = np.load('' + str(i) + '.npy')\n",
        "  b3 = np.load('' + str(i) + '.npy')\n",
        "  b4 = np.load('' + str(i) + '.npy')\n",
        "  b5 = np.load('' + str(i) + '.npy')\n",
        "  b6 = np.load('' + str(i) + '.npy')\n",
        "  test = np.append(b1,b2,axis=1)\n",
        "  test = np.append(test,b3,axis=1)\n",
        "  test = np.append(test,b4,axis=1)\n",
        "  test = np.append(test,b5,axis=1)\n",
        "  test = np.append(test,b6,axis=1)\n",
        "  image = test\n",
        "  image[np.isnan(image)] = 0\n",
        "  prediction = regr.predict(image)\n",
        "  path = '' + str(i) + '.npy'\n",
        "  np.save(path,prediction)"
      ]
    },
    {
      "cell_type": "markdown",
      "source": [
        "Now stitch together the pieces of the predicted results. These have to be stored as two seperate arrays due to size (0-62,62-124)"
      ],
      "metadata": {
        "id": "MfUDe2qjMTQm"
      }
    },
    {
      "cell_type": "code",
      "execution_count": null,
      "metadata": {
        "colab": {
          "base_uri": "https://localhost:8080/"
        },
        "id": "9f9y0NlCrX-l",
        "outputId": "dec98e6f-566b-457d-8daf-c16b7ff8bdb2"
      },
      "outputs": [
        {
          "output_type": "stream",
          "name": "stderr",
          "text": [
            "100%|██████████| 62/62 [08:54<00:00,  8.62s/it]\n"
          ]
        },
        {
          "output_type": "stream",
          "name": "stdout",
          "text": [
            "Shape of the concatenated array: (2453917220,)\n"
          ]
        }
      ],
      "source": [
        "import numpy as np\n",
        "from tqdm import tqdm\n",
        "\n",
        "# Loop through each file in the folder\n",
        "for i in tqdm(range(62,124)):\n",
        "    # Construct the full path to the file\n",
        "    path = '' + str(i) + '.npy'\n",
        "    # Load the numpy array from the file\n",
        "    array = np.load(path,allow_pickle=True)\n",
        "    # Append the array to the list\n",
        "    if i == 62:\n",
        "      result = array\n",
        "    else:\n",
        "      result = np.append(result,array,axis=0)\n",
        "      del array\n",
        "\n",
        "\n",
        "# Print the shape of the resulting array\n",
        "print(\"Shape of the concatenated array:\", result.shape)\n",
        "np.save('',result)\n"
      ]
    },
    {
      "cell_type": "markdown",
      "source": [
        "# Part 3"
      ],
      "metadata": {
        "id": "b_olrzY7MmDu"
      }
    },
    {
      "cell_type": "markdown",
      "source": [
        "Now stitch together the two large arrays, reshape them to be the dimensions of a raster, then save them as a numpy array"
      ],
      "metadata": {
        "id": "ddo9e4OzMoj2"
      }
    },
    {
      "cell_type": "code",
      "execution_count": null,
      "metadata": {
        "id": "uNyEabCN3PDf"
      },
      "outputs": [],
      "source": [
        "import numpy as np\n",
        "r1 = np.load('',mmap_mode='r')\n",
        "r2 = np.load('',mmap_mode='r')\n",
        "\n",
        "r3 = np.append(r1,r2,axis=0)\n",
        "base =  np.load(\"\",mmap_mode='r')\n",
        "r4 = r3.reshape(base.shape)\n",
        "np.save('',r4)"
      ]
    },
    {
      "cell_type": "markdown",
      "source": [
        "# Part 4"
      ],
      "metadata": {
        "id": "4k10IiXbM2FH"
      }
    },
    {
      "cell_type": "markdown",
      "source": [
        "Load in a raster of equal size to the predicted image so that you can easily pull dimensions, reolutions, projection, etc"
      ],
      "metadata": {
        "id": "WJ2jh6s8M5w1"
      }
    },
    {
      "cell_type": "code",
      "execution_count": null,
      "metadata": {
        "colab": {
          "base_uri": "https://localhost:8080/"
        },
        "id": "Pj1JS0_FCqSs",
        "outputId": "1aa7b406-eedc-4549-f14a-75cb369fa896"
      },
      "outputs": [
        {
          "output_type": "stream",
          "name": "stdout",
          "text": [
            "['/content/drive/MyDrive/2023_LS_NOV3try/2023_LS_Nov3-0000000000-0000000000.tif', '/content/drive/MyDrive/2023_LS_NOV3try/2023_LS_Nov3-0000000000-0000009472.tif', '/content/drive/MyDrive/2023_LS_NOV3try/2023_LS_Nov3-0000000000-0000018944.tif', '/content/drive/MyDrive/2023_LS_NOV3try/2023_LS_Nov3-0000000000-0000028416.tif', '/content/drive/MyDrive/2023_LS_NOV3try/2023_LS_Nov3-0000000000-0000037888.tif', '/content/drive/MyDrive/2023_LS_NOV3try/2023_LS_Nov3-0000000000-0000047360.tif', '/content/drive/MyDrive/2023_LS_NOV3try/2023_LS_Nov3-0000000000-0000056832.tif', '/content/drive/MyDrive/2023_LS_NOV3try/2023_LS_Nov3-0000000000-0000066304.tif', '/content/drive/MyDrive/2023_LS_NOV3try/2023_LS_Nov3-0000000000-0000075776.tif', '/content/drive/MyDrive/2023_LS_NOV3try/2023_LS_Nov3-0000009472-0000000000.tif', '/content/drive/MyDrive/2023_LS_NOV3try/2023_LS_Nov3-0000009472-0000009472.tif', '/content/drive/MyDrive/2023_LS_NOV3try/2023_LS_Nov3-0000009472-0000018944.tif', '/content/drive/MyDrive/2023_LS_NOV3try/2023_LS_Nov3-0000009472-0000028416.tif', '/content/drive/MyDrive/2023_LS_NOV3try/2023_LS_Nov3-0000009472-0000037888.tif', '/content/drive/MyDrive/2023_LS_NOV3try/2023_LS_Nov3-0000009472-0000047360.tif', '/content/drive/MyDrive/2023_LS_NOV3try/2023_LS_Nov3-0000009472-0000056832.tif', '/content/drive/MyDrive/2023_LS_NOV3try/2023_LS_Nov3-0000009472-0000066304.tif', '/content/drive/MyDrive/2023_LS_NOV3try/2023_LS_Nov3-0000009472-0000075776.tif', '/content/drive/MyDrive/2023_LS_NOV3try/2023_LS_Nov3-0000018944-0000000000.tif', '/content/drive/MyDrive/2023_LS_NOV3try/2023_LS_Nov3-0000018944-0000009472.tif', '/content/drive/MyDrive/2023_LS_NOV3try/2023_LS_Nov3-0000018944-0000018944.tif', '/content/drive/MyDrive/2023_LS_NOV3try/2023_LS_Nov3-0000018944-0000028416.tif', '/content/drive/MyDrive/2023_LS_NOV3try/2023_LS_Nov3-0000018944-0000037888.tif', '/content/drive/MyDrive/2023_LS_NOV3try/2023_LS_Nov3-0000018944-0000047360.tif', '/content/drive/MyDrive/2023_LS_NOV3try/2023_LS_Nov3-0000018944-0000056832.tif', '/content/drive/MyDrive/2023_LS_NOV3try/2023_LS_Nov3-0000018944-0000066304.tif', '/content/drive/MyDrive/2023_LS_NOV3try/2023_LS_Nov3-0000018944-0000075776.tif', '/content/drive/MyDrive/2023_LS_NOV3try/2023_LS_Nov3-0000028416-0000000000.tif', '/content/drive/MyDrive/2023_LS_NOV3try/2023_LS_Nov3-0000028416-0000009472.tif', '/content/drive/MyDrive/2023_LS_NOV3try/2023_LS_Nov3-0000028416-0000018944.tif', '/content/drive/MyDrive/2023_LS_NOV3try/2023_LS_Nov3-0000028416-0000028416.tif', '/content/drive/MyDrive/2023_LS_NOV3try/2023_LS_Nov3-0000028416-0000037888.tif', '/content/drive/MyDrive/2023_LS_NOV3try/2023_LS_Nov3-0000028416-0000047360.tif', '/content/drive/MyDrive/2023_LS_NOV3try/2023_LS_Nov3-0000028416-0000056832.tif', '/content/drive/MyDrive/2023_LS_NOV3try/2023_LS_Nov3-0000028416-0000066304.tif', '/content/drive/MyDrive/2023_LS_NOV3try/2023_LS_Nov3-0000028416-0000075776.tif', '/content/drive/MyDrive/2023_LS_NOV3try/2023_LS_Nov3-0000037888-0000000000.tif', '/content/drive/MyDrive/2023_LS_NOV3try/2023_LS_Nov3-0000037888-0000009472.tif', '/content/drive/MyDrive/2023_LS_NOV3try/2023_LS_Nov3-0000037888-0000018944.tif', '/content/drive/MyDrive/2023_LS_NOV3try/2023_LS_Nov3-0000037888-0000028416.tif', '/content/drive/MyDrive/2023_LS_NOV3try/2023_LS_Nov3-0000037888-0000037888.tif', '/content/drive/MyDrive/2023_LS_NOV3try/2023_LS_Nov3-0000037888-0000047360.tif', '/content/drive/MyDrive/2023_LS_NOV3try/2023_LS_Nov3-0000037888-0000056832.tif', '/content/drive/MyDrive/2023_LS_NOV3try/2023_LS_Nov3-0000037888-0000066304.tif', '/content/drive/MyDrive/2023_LS_NOV3try/2023_LS_Nov3-0000037888-0000075776.tif', '/content/drive/MyDrive/2023_LS_NOV3try/2023_LS_Nov3-0000047360-0000000000.tif', '/content/drive/MyDrive/2023_LS_NOV3try/2023_LS_Nov3-0000047360-0000009472.tif', '/content/drive/MyDrive/2023_LS_NOV3try/2023_LS_Nov3-0000047360-0000018944.tif', '/content/drive/MyDrive/2023_LS_NOV3try/2023_LS_Nov3-0000047360-0000028416.tif', '/content/drive/MyDrive/2023_LS_NOV3try/2023_LS_Nov3-0000047360-0000037888.tif', '/content/drive/MyDrive/2023_LS_NOV3try/2023_LS_Nov3-0000047360-0000047360.tif', '/content/drive/MyDrive/2023_LS_NOV3try/2023_LS_Nov3-0000047360-0000056832.tif', '/content/drive/MyDrive/2023_LS_NOV3try/2023_LS_Nov3-0000047360-0000066304.tif', '/content/drive/MyDrive/2023_LS_NOV3try/2023_LS_Nov3-0000047360-0000075776.tif', '/content/drive/MyDrive/2023_LS_NOV3try/2023_LS_Nov3-0000056832-0000000000.tif', '/content/drive/MyDrive/2023_LS_NOV3try/2023_LS_Nov3-0000056832-0000009472.tif', '/content/drive/MyDrive/2023_LS_NOV3try/2023_LS_Nov3-0000056832-0000018944.tif', '/content/drive/MyDrive/2023_LS_NOV3try/2023_LS_Nov3-0000056832-0000028416.tif', '/content/drive/MyDrive/2023_LS_NOV3try/2023_LS_Nov3-0000056832-0000037888.tif', '/content/drive/MyDrive/2023_LS_NOV3try/2023_LS_Nov3-0000056832-0000047360.tif', '/content/drive/MyDrive/2023_LS_NOV3try/2023_LS_Nov3-0000056832-0000056832.tif', '/content/drive/MyDrive/2023_LS_NOV3try/2023_LS_Nov3-0000056832-0000066304.tif', '/content/drive/MyDrive/2023_LS_NOV3try/2023_LS_Nov3-0000056832-0000075776.tif']\n"
          ]
        }
      ],
      "source": [
        "from osgeo import gdal\n",
        "import glob\n",
        "import subprocess\n",
        "gdal.UseExceptions()\n",
        "\n",
        "# list all files in directory that match pattern\n",
        "demList = glob.glob(\"*.tif\")\n",
        "print(demList)\n",
        "first = gdal.Open(demList[0])\n",
        "img_reference = first.GetGeoTransform()\n",
        "x_res = img_reference[1]\n",
        "y_res = -img_reference[5]\n",
        "\n",
        "#merge\n",
        "#cmd = \"gdal_merge.py -o mergedDEM.tif\"\n",
        "#subprocess.call(cmd.split()+demList)\n",
        "options_list = [\n",
        "    '-hidenodata'\n",
        "]\n",
        "options_string = \" \".join(options_list)\n",
        "\n",
        "# build virtual raster and convert to geotiff\n",
        "vrt = gdal.BuildVRT(\"MERGE.vrt\", demList,options='-hidenodata -srcnodata \"0\"')\n",
        "vrt = None"
      ]
    },
    {
      "cell_type": "markdown",
      "source": [
        "Now save the stitched together and reshped array as a tif. Make sure to update the SetNoDataValue() parameter for each run"
      ],
      "metadata": {
        "id": "pnIwcutONB0S"
      }
    },
    {
      "cell_type": "code",
      "execution_count": null,
      "metadata": {
        "colab": {
          "base_uri": "https://localhost:8080/"
        },
        "id": "74LWtawKArta",
        "outputId": "5cf9e75f-9946-40ac-c6c4-d910dfcd87dc"
      },
      "outputs": [
        {
          "output_type": "execute_result",
          "data": {
            "text/plain": [
              "0"
            ]
          },
          "metadata": {},
          "execution_count": 5
        }
      ],
      "source": [
        "from osgeo import gdal,gdal_array\n",
        "gdal.UseExceptions()\n",
        "gdal.AllRegister()\n",
        "\n",
        "\n",
        "in_file = r\"/content/MERGE.vrt\"\n",
        "img_ds = gdal.Open(in_file)\n",
        "driver = gdal.GetDriverByName('GTiff')\n",
        "outDs = driver.Create(\"\", img_ds.RasterXSize, img_ds.RasterYSize, 1, gdal.GDT_Float32)\n",
        "outBand = outDs.GetRasterBand(1)\n",
        "outBand.SetNoDataValue(0.29330593)\n",
        "outBand.WriteArray(r4)\n",
        "outDs.SetGeoTransform(img_ds.GetGeoTransform())"
      ]
    }
  ],
  "metadata": {
    "colab": {
      "machine_shape": "hm",
      "provenance": [],
      "collapsed_sections": [
        "b_olrzY7MmDu"
      ]
    },
    "kernelspec": {
      "display_name": "Python 3",
      "name": "python3"
    },
    "language_info": {
      "name": "python"
    }
  },
  "nbformat": 4,
  "nbformat_minor": 0
}