{
  "cells": [
    {
      "cell_type": "markdown",
      "source": [
        "Load in the raster with percent dead cover (roi) and the raster of landsat imagery (img). For this purpose, the size of landsat would be too big, so this raster is all na's except in places where it overlaps with the roi file (see GEE script for how this was accomplished. In addition, these are being loaded as numpy arrays due to size constraints, the conversion from raster to array is done in a corresponding notebook"
      ],
      "metadata": {
        "id": "GUkD5D_Cjdjo"
      }
    },
    {
      "cell_type": "code",
      "execution_count": null,
      "metadata": {
        "id": "P5GP41Uqwl2x"
      },
      "outputs": [],
      "source": [
        "from mmap import mmap\n",
        "import numpy as np\n",
        "img = np.load('',mmap_mode='r')\n",
        "roi = np.load('',mmap_mode='r')"
      ]
    },
    {
      "cell_type": "markdown",
      "source": [
        "Quick check of size of training data"
      ],
      "metadata": {
        "id": "zQEZSEt6kGGL"
      }
    },
    {
      "cell_type": "code",
      "execution_count": null,
      "metadata": {
        "id": "tVxzlM8kxLbD"
      },
      "outputs": [],
      "source": [
        "n_samples = (roi > 0 ).sum()\n",
        "print('We have {n} samples'.format(n=n_samples))"
      ]
    },
    {
      "cell_type": "markdown",
      "source": [
        "So now lets label our data as x and y, y contains the 'labeled' data and x contains the spectral data"
      ],
      "metadata": {
        "id": "_bYAluvrkLJ9"
      }
    },
    {
      "cell_type": "code",
      "execution_count": null,
      "metadata": {
        "colab": {
          "base_uri": "https://localhost:8080/"
        },
        "id": "HhOqh9bRxMpj",
        "outputId": "f140f769-ea0c-4743-cb62-98a4707013ce"
      },
      "outputs": [
        {
          "name": "stdout",
          "output_type": "stream",
          "text": [
            "Our X matrix is sized: (1503, 6)\n",
            "Our Y array is sized: (1503,)\n"
          ]
        }
      ],
      "source": [
        "x = img[roi > 0, :]\n",
        "\n",
        "y = roi[roi > 0]\n",
        "\n",
        "print('Our X matrix is sized: {sz}'.format(sz=x.shape))\n",
        "print('Our Y array is sized: {sz}'.format(sz=y.shape))"
      ]
    },
    {
      "cell_type": "markdown",
      "source": [
        "I converted the spectral data to a dataframe briefly so that I could add additional indices to the data for improved predictive power. Each indice is just a linear combination of original spectral bands from landsat"
      ],
      "metadata": {
        "id": "JtXA7WtWkWmI"
      }
    },
    {
      "cell_type": "code",
      "execution_count": null,
      "metadata": {
        "id": "NnV_EZIpx7v2"
      },
      "outputs": [],
      "source": [
        "import pandas as pd\n",
        "X = pd.DataFrame(x)"
      ]
    },
    {
      "cell_type": "code",
      "execution_count": null,
      "metadata": {
        "id": "Hkr5GxnpyBKl"
      },
      "outputs": [],
      "source": [
        "X['NDVI'] = (X.iloc[:,4] - X.iloc[:,3])/(X.iloc[:,4] + X.iloc[:,3])\n",
        "X['NDI'] = (X.iloc[:,2] - X.iloc[:,3])/(X.iloc[:,2] + X.iloc[:,3])\n",
        "X['EGI'] = 2*(X.iloc[:,2]) + (X.iloc[:,1]) + (X.iloc[:,3])\n",
        "X[\"NCI\"] = (X.iloc[:,1] - X.iloc[:,2])/(X.iloc[:,1] + X.iloc[:,2])\n",
        "X[\"VARI\"] = (X.iloc[:,2] - X.iloc[:,3])/(X.iloc[:,3] + X.iloc[:,2] + X.iloc[:,1])"
      ]
    },
    {
      "cell_type": "markdown",
      "source": [
        "The data then needs to be converted back to numpy array"
      ],
      "metadata": {
        "id": "j35HueKEkkLw"
      }
    },
    {
      "cell_type": "code",
      "execution_count": null,
      "metadata": {
        "id": "YUwaMoWb6WL9"
      },
      "outputs": [],
      "source": [
        "x = np.array(X)"
      ]
    },
    {
      "cell_type": "markdown",
      "source": [
        "# Kernel Ridge Regression"
      ],
      "metadata": {
        "id": "762EDFjImikC"
      }
    },
    {
      "cell_type": "markdown",
      "source": [
        "I first tested out kernel ridge regression for this project. This code used KRR to predict cover of dead sagebrush and reports the accuracy."
      ],
      "metadata": {
        "id": "DfZdj7WNmnXE"
      }
    },
    {
      "cell_type": "markdown",
      "source": [
        "I used grive seach in sklearn to first find the ideal hyperparameters for KRR"
      ],
      "metadata": {
        "id": "mUgbScLJm1Ut"
      }
    },
    {
      "cell_type": "code",
      "execution_count": null,
      "metadata": {
        "colab": {
          "base_uri": "https://localhost:8080/"
        },
        "id": "y_o-gjcageBK",
        "outputId": "56d3d77b-aae0-4360-b8c5-4424c41073a3"
      },
      "outputs": [
        {
          "name": "stdout",
          "output_type": "stream",
          "text": [
            "Best KRR with params: {'alpha': 1.0} and R2 score: 0.165\n",
            "KRR complexity and bandwidth selected and model fitted in 1.524 s\n",
            "KRR prediction for 1202 inputs in 0.023 s\n"
          ]
        }
      ],
      "source": [
        "from sklearn.model_selection import GridSearchCV\n",
        "import time\n",
        "kr = GridSearchCV(\n",
        "    KernelRidge(kernel=\"linear\"),\n",
        "    param_grid={\"alpha\": [1e0, 0.1, 1e-2, 1e-3]},\n",
        ")\n",
        "t0 = time.time()\n",
        "kr.fit(train_X, train_y)\n",
        "kr_fit = time.time() - t0\n",
        "print(f\"Best KRR with params: {kr.best_params_} and R2 score: {kr.best_score_:.3f}\")\n",
        "print(\"KRR complexity and bandwidth selected and model fitted in %.3f s\" % kr_fit)\n",
        "\n",
        "t0 = time.time()\n",
        "y_kr = kr.predict(train_X)\n",
        "kr_predict = time.time() - t0\n",
        "print(\"KRR prediction for %d inputs in %.3f s\" % (train_X.shape[0], kr_predict)\n",
        "y_pred"
      ]
    },
    {
      "cell_type": "code",
      "execution_count": null,
      "metadata": {
        "colab": {
          "base_uri": "https://localhost:8080/"
        },
        "id": "6bv7-uQgeTqD",
        "outputId": "884b1ab0-4753-44cc-93b4-bbaabab698b5"
      },
      "outputs": [
        {
          "name": "stdout",
          "output_type": "stream",
          "text": [
            "\n",
            "Computing accuracy (within 0.10 of true) \n",
            "Accuracy on train data = 0.0556 \n",
            "Accuracy on test data = 0.0000 \n"
          ]
        }
      ],
      "source": [
        "from sklearn.kernel_ridge import KernelRidge\n",
        "import pickle\n",
        "from sklearn.model_selection import train_test_split\n",
        "train_X,test_X,train_y,test_y = train_test_split(x, y, test_size = 0.1)\n",
        "\n",
        "def accuracy(model, data_X, data_y, pct_close):\n",
        "  # correct within pct of true income\n",
        "  n_correct = 0; n_wrong = 0\n",
        "\n",
        "  for i in range(len(data_X)):\n",
        "    X = data_X[i].reshape(1, -1)  # one-item batch\n",
        "    y = data_y[i]\n",
        "    pred = model.predict(X)       # predicted income\n",
        "\n",
        "    if np.abs(pred - y) < np.abs(pct_close * y):\n",
        "      n_correct += 1\n",
        "    else:\n",
        "      n_wrong += 1\n",
        "  acc = (n_correct * 1.0) / (n_correct + n_wrong)\n",
        "  return acc\n",
        "\n",
        "\n",
        "\n",
        "np.random.seed(1)\n",
        "\n",
        "model = KernelRidge(alpha=0.1, kernel='polynomial',gamma=0.01)\n",
        "model = model.fit(train_X, train_y)\n",
        "\n",
        "print(\"\\nComputing accuracy (within 0.10 of true) \")\n",
        "acc_train = accuracy(model, train_X, train_y, 0.10)\n",
        "print(\"Accuracy on train data = %0.4f \" % acc_train)\n",
        "acc_test = accuracy(model, test_X, test_y, 0.10)\n",
        "print(\"Accuracy on test data = %0.4f \" % acc_test)\n",
        "y_pred = model.predict(test_X)"
      ]
    },
    {
      "cell_type": "markdown",
      "source": [
        "This code then plots the training vs test data relative to observed values"
      ],
      "metadata": {
        "id": "XL587DiDm7Q_"
      }
    },
    {
      "cell_type": "code",
      "execution_count": null,
      "metadata": {
        "colab": {
          "base_uri": "https://localhost:8080/",
          "height": 487
        },
        "id": "JggrkleyfOT6",
        "outputId": "cbbd8f76-fb88-4aab-ee23-712a14a8f930"
      },
      "outputs": [
        {
          "data": {
            "image/png": "[encoded data removed]",
            "text/plain": [
              "<Figure size 640x480 with 2 Axes>"
            ]
          },
          "metadata": {},
          "output_type": "display_data"
        }
      ],
      "source": [
        "import matplotlib.pyplot as plt\n",
        "# scatterplot of actual vs. pred\n",
        "# specify the dimensions\n",
        "fig, axes = plt.subplots(1,2) # 1 row, 2 columns\n",
        "\n",
        "# this makes the individual subplots\n",
        "# Training Results\n",
        "axes[0].scatter(x=train_y, y=model.predict(train_X)) #first row, first entry (left top)\n",
        "axes[0].set_xlabel(\"Actual\", fontsize=10)\n",
        "axes[0].set_ylabel(\"Predicted\",  fontsize=10)\n",
        "axes[0].set_title(\"Training\")\n",
        "# add 45 deg line\n",
        "x1 = np.linspace(*axes[0].get_xlim())\n",
        "axes[0].plot(x1, x1, color='red')\n",
        "# Validation Results\n",
        "axes[1].scatter(x=test_y, y=model.predict(test_X)) # first row, second entry (right top)\n",
        "axes[1].set_xlabel(\"Actual\", fontsize=10)\n",
        "axes[1].set_ylabel(\"Predicted\",  fontsize=10)\n",
        "axes[1].set_title(\"Validation\")\n",
        "# add 45 deg line\n",
        "x1 = np.linspace(*axes[1].get_xlim())\n",
        "axes[1].plot(x1, x1, color='red')\n",
        "\n",
        "# tight layout\n",
        "fig.tight_layout()\n",
        "\n",
        "# show the plot\n",
        "plt.show()"
      ]
    },
    {
      "cell_type": "markdown",
      "source": [
        "# Linear Regression"
      ],
      "metadata": {
        "id": "2WYKfRRPnBmd"
      }
    },
    {
      "cell_type": "code",
      "execution_count": null,
      "metadata": {
        "colab": {
          "base_uri": "https://localhost:8080/"
        },
        "id": "yMvhOHHAvg7G",
        "outputId": "e171ede2-76b0-4e7f-f004-8f7722f96eca"
      },
      "outputs": [
        {
          "name": "stdout",
          "output_type": "stream",
          "text": [
            "0.051513524809759015\n"
          ]
        }
      ],
      "source": [
        "import numpy as np\n",
        "from sklearn.linear_model import LinearRegression\n",
        "from sklearn.model_selection import train_test_split\n",
        "#train_x,test_x,train_y,test_y = train_test_split(x, y, test_size = 0.05)\n",
        "\n",
        "model = LinearRegression().fit(test_y.reshape(-1,1),y_pred)\n",
        "r_sq = model.score(test_y.reshape(-1,1), y_pred)\n",
        "print(r_sq)\n",
        "#pred_y = model.predict(test_x)\n",
        "#mse = np.mean(np.square(test_y-pred_y))\n",
        "\n",
        "#print(mse)\n",
        "#print(mse**.5)"
      ]
    },
    {
      "cell_type": "markdown",
      "source": [
        "# Convolutional Neural Network"
      ],
      "metadata": {
        "id": "TN-L_hwDnJuo"
      }
    },
    {
      "cell_type": "markdown",
      "source": [
        "This code works through building and training a CNN for this data. The results clearly showed that the size of the training data was too small but the code is still valuable"
      ],
      "metadata": {
        "id": "ll3xRPn_nN08"
      }
    },
    {
      "cell_type": "code",
      "execution_count": null,
      "metadata": {
        "id": "u7RdHeP32MHS"
      },
      "outputs": [],
      "source": [
        "from sklearn.model_selection import train_test_split\n",
        "train_x,test_x,train_y,test_y = train_test_split(x, y, test_size = 0.15)"
      ]
    },
    {
      "cell_type": "code",
      "execution_count": null,
      "metadata": {
        "colab": {
          "background_save": true,
          "base_uri": "https://localhost:8080/"
        },
        "id": "MawUJrmv0PkM",
        "outputId": "cca622ae-df16-4dca-ecbb-4294ff90917e"
      },
      "outputs": [
        {
          "ename": "NameError",
          "evalue": "name 'train_x' is not defined",
          "output_type": "error",
          "traceback": [
            "\u001b[0;31m---------------------------------------------------------------------------\u001b[0m",
            "\u001b[0;31mNameError\u001b[0m                                 Traceback (most recent call last)",
            "\u001b[0;32m<ipython-input-1-0c9637d04c2e>\u001b[0m in \u001b[0;36m<cell line: 7>\u001b[0;34m()\u001b[0m\n\u001b[1;32m      5\u001b[0m \u001b[0;32mimport\u001b[0m \u001b[0mkeras\u001b[0m\u001b[0;34m\u001b[0m\u001b[0;34m\u001b[0m\u001b[0m\n\u001b[1;32m      6\u001b[0m \u001b[0mmin_max_scaler\u001b[0m \u001b[0;34m=\u001b[0m \u001b[0mMinMaxScaler\u001b[0m\u001b[0;34m(\u001b[0m\u001b[0;34m)\u001b[0m\u001b[0;34m\u001b[0m\u001b[0;34m\u001b[0m\u001b[0m\n\u001b[0;32m----> 7\u001b[0;31m \u001b[0mtrain_x\u001b[0m \u001b[0;34m=\u001b[0m \u001b[0mmin_max_scaler\u001b[0m\u001b[0;34m.\u001b[0m\u001b[0mfit_transform\u001b[0m\u001b[0;34m(\u001b[0m\u001b[0mtrain_x\u001b[0m\u001b[0;34m)\u001b[0m\u001b[0;34m\u001b[0m\u001b[0;34m\u001b[0m\u001b[0m\n\u001b[0m\u001b[1;32m      8\u001b[0m \u001b[0mtest_x\u001b[0m \u001b[0;34m=\u001b[0m \u001b[0mmin_max_scaler\u001b[0m\u001b[0;34m.\u001b[0m\u001b[0mfit_transform\u001b[0m\u001b[0;34m(\u001b[0m\u001b[0mtest_x\u001b[0m\u001b[0;34m)\u001b[0m\u001b[0;34m\u001b[0m\u001b[0;34m\u001b[0m\u001b[0m\n\u001b[1;32m      9\u001b[0m \u001b[0;34m\u001b[0m\u001b[0m\n",
            "\u001b[0;31mNameError\u001b[0m: name 'train_x' is not defined"
          ]
        }
      ],
      "source": [
        "from sklearn.preprocessing import MinMaxScaler\n",
        "from keras.models import Sequential\n",
        "from keras.layers import Dense, Dropout\n",
        "from keras.callbacks import EarlyStopping\n",
        "import keras\n",
        "min_max_scaler = MinMaxScaler()\n",
        "train_x = min_max_scaler.fit_transform(train_x)\n",
        "test_x = min_max_scaler.fit_transform(test_x)\n",
        "\n",
        "# build the model!\n",
        "model = Sequential()\n",
        "model.add(Dense(16, input_shape=(train_x.shape[1],), activation='leaky_relu')) # (features,)\n",
        "model.add(Dense(32, activation='leaky_relu'))\n",
        "model.add(Dense(16, activation='leaky_relu'))\n",
        "model.add(Dense(1, activation='linear')) # output node\n",
        "model.summary() # see what your model looks like\n",
        "optimizer = keras.optimizers.Adam(lr=0.1)\n",
        "# compile the model\n",
        "model.compile(optimizer=optimizer, loss='mse', metrics=['mse'])\n",
        "\n",
        "# early stopping callback\n",
        "es = EarlyStopping(monitor='val_loss',\n",
        "                   mode='min',\n",
        "                   patience=50,\n",
        "                   restore_best_weights = True)\n",
        "\n",
        "# fit the model!\n",
        "# attach it to a new variable called 'history' in case\n",
        "# to look at the learning curves\n",
        "history = model.fit(train_x, train_y,\n",
        "                    validation_data = (test_x, test_y),\n",
        "                    callbacks=[es],\n",
        "                    epochs=5000,\n",
        "                    batch_size=50,\n",
        "                    verbose=1)"
      ]
    },
    {
      "cell_type": "markdown",
      "source": [
        "Plot training and validation loss"
      ],
      "metadata": {
        "id": "Sd1X-GLPnYoF"
      }
    },
    {
      "cell_type": "code",
      "execution_count": null,
      "metadata": {
        "colab": {
          "base_uri": "https://localhost:8080/",
          "height": 472
        },
        "id": "D3RlVY1_0_H4",
        "outputId": "6601d8e5-10dc-40c0-81e3-e4d613167f50"
      },
      "outputs": [
        {
          "data": {
            "image/png": "[encoded data removed]",
            "text/plain": [
              "<Figure size 640x480 with 1 Axes>"
            ]
          },
          "metadata": {},
          "output_type": "display_data"
        }
      ],
      "source": [
        "import matplotlib.pyplot as plt\n",
        "history_dict = history.history\n",
        "loss_values = history_dict['loss'] # you can change this\n",
        "val_loss_values = history_dict['val_loss'] # you can also change this\n",
        "epochs = range(1, len(loss_values) + 1) # range of X (no. of epochs)\n",
        "plt.plot(epochs, loss_values, 'bo', label='Training loss')\n",
        "plt.plot(epochs, val_loss_values, 'orange', label='Validation loss')\n",
        "plt.title('Training and validation loss')\n",
        "plt.xlabel('Epochs')\n",
        "plt.ylabel('Loss')\n",
        "plt.legend()\n",
        "plt.show()"
      ]
    },
    {
      "cell_type": "markdown",
      "source": [
        "Plot training and test values vs observed values"
      ],
      "metadata": {
        "id": "SvdlYSGYnbtZ"
      }
    },
    {
      "cell_type": "code",
      "execution_count": null,
      "metadata": {
        "colab": {
          "base_uri": "https://localhost:8080/",
          "height": 522
        },
        "id": "uvBGyTuX1VG2",
        "outputId": "916bbe50-a232-4ad7-95bc-20bc976b3a2d"
      },
      "outputs": [
        {
          "name": "stdout",
          "output_type": "stream",
          "text": [
            "3/3 [==============================] - 0s 3ms/step\n",
            "1/1 [==============================] - 0s 22ms/step\n"
          ]
        },
        {
          "data": {
            "image/png": "[encoded data removed]",
            "text/plain": [
              "<Figure size 640x480 with 2 Axes>"
            ]
          },
          "metadata": {},
          "output_type": "display_data"
        }
      ],
      "source": [
        "\n",
        "# scatterplot of actual vs. pred\n",
        "# specify the dimensions\n",
        "fig, axes = plt.subplots(1,2) # 1 row, 2 columns\n",
        "\n",
        "# this makes the individual subplots\n",
        "# Training Results\n",
        "axes[0].scatter(x=train_y, y=model.predict(train_x)) #first row, first entry (left top)\n",
        "axes[0].set_xlabel(\"Actual\", fontsize=10)\n",
        "axes[0].set_ylabel(\"Predicted\",  fontsize=10)\n",
        "axes[0].set_title(\"Training\")\n",
        "# add 45 deg line\n",
        "x1 = np.linspace(*axes[0].get_xlim())\n",
        "axes[0].plot(x1, x1, color='red')\n",
        "# Validation Results\n",
        "axes[1].scatter(x=test_y, y=model.predict(test_x)) # first row, second entry (right top)\n",
        "axes[1].set_xlabel(\"Actual\", fontsize=10)\n",
        "axes[1].set_ylabel(\"Predicted\",  fontsize=10)\n",
        "axes[1].set_title(\"Validation\")\n",
        "# add 45 deg line\n",
        "x1 = np.linspace(*axes[1].get_xlim())\n",
        "axes[1].plot(x1, x1, color='red')\n",
        "\n",
        "# tight layout\n",
        "fig.tight_layout()\n",
        "\n",
        "# show the plot\n",
        "plt.show()"
      ]
    },
    {
      "cell_type": "markdown",
      "source": [
        "# Random Forest Ensemble"
      ],
      "metadata": {
        "id": "sF0AvMQrnrGy"
      }
    },
    {
      "cell_type": "markdown",
      "source": [
        "I first used the grid seach to find the best hyperparameters for a random forest"
      ],
      "metadata": {
        "id": "NY_zrww9ovMN"
      }
    },
    {
      "cell_type": "code",
      "execution_count": null,
      "metadata": {
        "id": "yEr9_WydXF03"
      },
      "outputs": [],
      "source": [
        "from sklearn.model_selection import GridSearchCV\n",
        "from sklearn import tree\n",
        "from sklearn.model_selection import train_test_split\n",
        "from sklearn import ensemble\n",
        "\n",
        "## Define Grid\n",
        "param_grid = {\n",
        "    'n_estimators': [200,300,400,500],\n",
        "    'max_features': ['sqrt','log2'],\n",
        "    'max_depth' : [3,4,5,6,7],\n",
        "    'random_state' : [18]\n",
        "}\n",
        "\n",
        "# print classification report\n",
        "## show start time\n",
        "#print(datetime.now())\n",
        "## Grid Search function\n",
        "grid = GridSearchCV(estimator=ensemble.RandomForestRegressor(), param_grid=param_grid, cv= 5)\n",
        "grid.fit(train_x, train_y)\n",
        "\n",
        "grid_predictions = grid.predict(test_x)\n"
      ]
    },
    {
      "cell_type": "markdown",
      "source": [
        "The code below fits an RF and reports variable importance"
      ],
      "metadata": {
        "id": "BWUY6AeHnt5H"
      }
    },
    {
      "cell_type": "code",
      "execution_count": null,
      "metadata": {
        "colab": {
          "base_uri": "https://localhost:8080/"
        },
        "id": "F8j7at_kxPhe",
        "outputId": "e32474cc-36cc-4bf3-9479-c989ef356a1c"
      },
      "outputs": [
        {
          "name": "stdout",
          "output_type": "stream",
          "text": [
            "0.10378265896427137\n",
            "0.322153160723702\n",
            "Variable 0 importance: 0.18930939517290304\n",
            "Variable 1 importance: 0.18413359318269562\n",
            "Variable 2 importance: 0.2150313726868334\n",
            "Variable 3 importance: 0.1698563826535528\n",
            "Variable 4 importance: 0.2416692563040152\n"
          ]
        }
      ],
      "source": [
        "from sklearn import tree\n",
        "from sklearn.model_selection import train_test_split\n",
        "\n",
        "from sklearn import ensemble\n",
        "\n",
        "train_x,test_x,train_y,test_y = train_test_split(x, y, test_size = 0.50)\n",
        "dtr = ensemble.RandomForestRegressor(n_estimators = 100,max_features=3,max_depth=10,n_jobs=-1)\n",
        "regr = dtr.fit(train_x, train_y)\n",
        "pred_y = regr.predict(test_x)\n",
        "mse = np.mean(np.square(test_y-pred_y))\n",
        "\n",
        "print(mse)\n",
        "print(mse**.5)\n",
        "variables = list(range(0,x.shape[1]))\n",
        "for b, imp in zip(variables, regr.feature_importances_):\n",
        "  print('Variable {b} importance: {imp}'.format(b=b, imp=imp))"
      ]
    },
    {
      "cell_type": "markdown",
      "source": [
        "Test and training data vs observed"
      ],
      "metadata": {
        "id": "579NyjjUn6Ao"
      }
    },
    {
      "cell_type": "code",
      "execution_count": null,
      "metadata": {
        "id": "qhXmfj2QF21b"
      },
      "outputs": [],
      "source": [
        "import matplotlib.pyplot as plt\n",
        "# scatterplot of actual vs. pred\n",
        "# specify the dimensions\n",
        "fig, axes = plt.subplots(1,2) # 1 row, 2 columns\n",
        "\n",
        "# this makes the individual subplots\n",
        "# Training Results\n",
        "axes[0].scatter(x=train_y, y=regr.predict(train_x)) #first row, first entry (left top)\n",
        "axes[0].set_xlabel(\"Actual\", fontsize=10)\n",
        "axes[0].set_ylabel(\"Predicted\",  fontsize=10)\n",
        "axes[0].set_title(\"Training\")\n",
        "# add 45 deg line\n",
        "x1 = np.linspace(*axes[0].get_xlim())\n",
        "axes[0].plot(x1, x1, color='red')\n",
        "# Validation Results\n",
        "axes[1].scatter(x=test_y, y=regr.predict(test_x)) # first row, second entry (right top)\n",
        "axes[1].set_xlabel(\"Actual\", fontsize=10)\n",
        "axes[1].set_ylabel(\"Predicted\",  fontsize=10)\n",
        "axes[1].set_title(\"Validation\")\n",
        "# add 45 deg line\n",
        "x1 = np.linspace(*axes[1].get_xlim())\n",
        "axes[1].plot(x1, x1, color='red')\n",
        "\n",
        "# tight layout\n",
        "fig.tight_layout()\n",
        "\n",
        "# show the plot\n",
        "plt.show()"
      ]
    },
    {
      "cell_type": "markdown",
      "source": [
        "This model ultimately worked the best, I used 'joblib' to save the trained RF model for use in a different script"
      ],
      "metadata": {
        "id": "VNffkSdCn8w_"
      }
    },
    {
      "cell_type": "code",
      "execution_count": null,
      "metadata": {
        "colab": {
          "base_uri": "https://localhost:8080/"
        },
        "id": "NeKALmt4Hl-G",
        "outputId": "ead0b243-50fe-4556-d3b6-73863a42f0f1"
      },
      "outputs": [
        {
          "data": {
            "text/plain": [
              "['/content/drive/MyDrive/Drone_Flights/RF_intermediate/Nov6_regressor.joblib']"
            ]
          },
          "execution_count": 36,
          "metadata": {},
          "output_type": "execute_result"
        }
      ],
      "source": [
        "import joblib\n",
        "\n",
        "# save\n",
        "joblib.dump(regr, \"\")"
      ]
    }
  ],
  "metadata": {
    "colab": {
      "machine_shape": "hm",
      "provenance": []
    },
    "kernelspec": {
      "display_name": "Python 3",
      "name": "python3"
    },
    "language_info": {
      "name": "python"
    }
  },
  "nbformat": 4,
  "nbformat_minor": 0
}